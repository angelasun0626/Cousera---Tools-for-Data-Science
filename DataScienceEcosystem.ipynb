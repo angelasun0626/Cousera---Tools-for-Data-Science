{
  "nbformat": 4,
  "nbformat_minor": 0,
  "metadata": {
    "colab": {
      "provenance": []
    },
    "kernelspec": {
      "name": "python3",
      "display_name": "Python 3"
    },
    "language_info": {
      "name": "python"
    }
  },
  "cells": [
    {
      "cell_type": "markdown",
      "source": [
        "#Data Science Tools and Ecosystem"
      ],
      "metadata": {
        "id": "kPXoRg_OgBb2"
      }
    },
    {
      "cell_type": "markdown",
      "source": [
        "##Author\n",
        "Yi (Angela) Sun"
      ],
      "metadata": {
        "id": "VzJ_Sx1lkPjJ"
      }
    },
    {
      "cell_type": "markdown",
      "source": [
        "In this notebook, Data Science Tools and Ecosystem are summarized."
      ],
      "metadata": {
        "id": "17FgCq4gglOW"
      }
    },
    {
      "cell_type": "markdown",
      "source": [
        "__Objectives:__\n",
        "- List popular languages for Data Science\n",
        "- List commonly used libraries used by Data Scientists\n",
        "- List Data Science tools"
      ],
      "metadata": {
        "id": "EE5aZ0I6jth-"
      }
    },
    {
      "cell_type": "markdown",
      "source": [
        "Some of the popular languages that Data Scientists use are:\n",
        "1. Python\n",
        "2. R\n",
        "3. SQL"
      ],
      "metadata": {
        "id": "nqxQV3ndg8P5"
      }
    },
    {
      "cell_type": "markdown",
      "source": [
        "Some of the commonly used libraries used by Data Scientists include:\n",
        "1. Numpy\n",
        "2. Pandas\n",
        "3. Matplotlib"
      ],
      "metadata": {
        "id": "EshOvKX4g6rG"
      }
    },
    {
      "cell_type": "markdown",
      "source": [
        "|Data Science Tools|\n",
        "|------------------|\n",
        "|Jupyter Notebook|\n",
        "|RStudio|\n",
        "|Visual Studio Code|\n"
      ],
      "metadata": {
        "id": "ji-aiW9yiJyS"
      }
    },
    {
      "cell_type": "markdown",
      "source": [
        "__Below are a few examples of evaluating arithmetic expressions in Python__"
      ],
      "metadata": {
        "id": "POPd9nwciwK_"
      }
    },
    {
      "cell_type": "code",
      "source": [
        "#This a simple arithmetic expression to mutiply then add integers\n",
        "(3*4)+5"
      ],
      "metadata": {
        "colab": {
          "base_uri": "https://localhost:8080/"
        },
        "id": "oEvoXh3bi4RQ",
        "outputId": "55e99393-a363-4ffd-8457-d106b582baf9"
      },
      "execution_count": 1,
      "outputs": [
        {
          "output_type": "execute_result",
          "data": {
            "text/plain": [
              "17"
            ]
          },
          "metadata": {},
          "execution_count": 1
        }
      ]
    },
    {
      "cell_type": "code",
      "source": [
        "#This will convert 200 minutes to hours by diving by 60\n",
        "200/60"
      ],
      "metadata": {
        "colab": {
          "base_uri": "https://localhost:8080/"
        },
        "id": "A4dnFSGKjRFv",
        "outputId": "0225fb65-bd77-4720-bfeb-7584e9771836"
      },
      "execution_count": 2,
      "outputs": [
        {
          "output_type": "execute_result",
          "data": {
            "text/plain": [
              "3.3333333333333335"
            ]
          },
          "metadata": {},
          "execution_count": 2
        }
      ]
    },
    {
      "cell_type": "code",
      "source": [],
      "metadata": {
        "id": "m_abRPe-jitF"
      },
      "execution_count": null,
      "outputs": []
    }
  ]
}